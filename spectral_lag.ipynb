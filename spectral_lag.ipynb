{
 "cells": [
  {
   "cell_type": "code",
   "execution_count": 1,
   "metadata": {},
   "outputs": [],
   "source": [
    "import numpy as np\n",
    "from matplotlib import pyplot as plt\n",
    "from scipy.optimize import curve_fit\n",
    "from scipy import integrate, stats\n",
    "import pymc3 as pm\n",
    "import corner\n",
    "%matplotlib inline"
   ]
  },
  {
   "cell_type": "markdown",
   "metadata": {},
   "source": [
    "## Loading the data"
   ]
  },
  {
   "cell_type": "code",
   "execution_count": 2,
   "metadata": {},
   "outputs": [
    {
     "data": {
      "image/png": "[encoded data removed]",
      "text/plain": [
       "<Figure size 432x288 with 1 Axes>"
      ]
     },
     "metadata": {
      "needs_background": "light"
     },
     "output_type": "display_data"
    }
   ],
   "source": [
    "data = np.loadtxt(\"./data/time_lag_data_plot.txt\")\n",
    "E = data[:,0]\n",
    "t_obs = data[:,1]\n",
    "err = data[:,2]\n",
    "plt.xscale(\"log\")\n",
    "plt.yscale(\"log\")\n",
    "plt.xlim(30,1E5/3)\n",
    "plt.ylim(0.1,10)\n",
    "plt.tick_params(axis='both', which='major', labelsize=16)\n",
    "plt.xlabel(r' E (keV)', fontsize=16)\n",
    "plt.ylabel(r' $\\Delta t_{obs}$ (s)', fontsize=16)\n",
    "for a, b, c in zip(E, t_obs, err):\n",
    "    if b>0:\n",
    "        plt.errorbar(a, b, c, fmt='bo')"
   ]
  },
  {
   "cell_type": "markdown",
   "metadata": {},
   "source": [
    "## The null hypothesis\n",
    "\n",
    "Here we define the model for null hypothesis which has the free variables $\\tau$ and $\\alpha$. Labeling this model as $M_0$ we can say:\n",
    "\n",
    "$$\n",
    "y \\sim \\mathcal{N}(y_{M_0}, \\sigma_y^2)\n",
    "$$\n",
    "\n",
    "After defining the model, we run the ADVI to approximate posterior for $y_{M_0}$ and draw traces of the free variables estimated by the model. The first thing to check is whether $ELBO$ has convereged or not. Then from the traces of free variables we generate values of $y_{M_0}$ by using the sample_ppc (ppc stands for *Predictive Posterior Check*) function of PYMC3 by supplying it with traces of our free variables. We then plot $y_{M_0}$ over the original data to see how well it models the data.\n",
    "\n",
    "We repeat this for models where $n=1$ and $n=2$."
   ]
  },
  {
   "cell_type": "code",
   "execution_count": 3,
   "metadata": {},
   "outputs": [],
   "source": [
    "def sigmoid(x) : \n",
    "    return 1 / ( 1 + np.exp(-x))\n",
    "\n",
    "'''\n",
    " In ADVI, the variational distribution is taken as gaussian with diagonal variance. p(x) ~ N(mu,std^2)\n",
    "'''\n",
    "def variational_pdf(x, mu, std, b, a) : \n",
    "    return stats.norm.pdf(x, mu, std) / ((b - a) * sigmoid(x) * (1 - sigmoid(x)))"
   ]
  },
  {
   "cell_type": "code",
   "execution_count": 4,
   "metadata": {},
   "outputs": [
    {
     "name": "stdout",
     "output_type": "stream",
     "text": [
      "[5.8651346  0.05860812]\n"
     ]
    }
   ],
   "source": [
    "E_0 = 11.34\n",
    "H_0 = 67.3\n",
    "O_M = 0.315\n",
    "O_L = 1 - O_M\n",
    "z = 1.41\n",
    "\n",
    "def t1(x,tau,a):\n",
    "    return (tau*(x**a - E_0**a))\n",
    "ta, covar = curve_fit(t1, E, t_obs, sigma=err)\n",
    "\n",
    "print(ta)\n",
    "\n",
    "with pm.Model() as model_null:\n",
    "    tau = pm.Uniform('tau',lower=0,upper=1)\n",
    "    alpha = pm.Uniform('alpha',lower=0,upper=1)\n",
    "    mu = tau * (E**alpha - E_0**alpha)\n",
    "    y_obs = pm.Normal('y_obs',mu=mu,sd=err, observed=t_obs)"
   ]
  },
  {
   "cell_type": "code",
   "execution_count": 5,
   "metadata": {},
   "outputs": [
    {
     "name": "stderr",
     "output_type": "stream",
     "text": [
      "Average Loss = 46.65: 100%|██████████| 100000/100000 [00:15<00:00, 6356.03it/s]  \n",
      "Finished [100%]: Average Loss = 46.657\n",
      "100%|██████████| 1000/1000 [00:00<00:00, 1397.39it/s]\n"
     ]
    }
   ],
   "source": [
    "\n",
    "with model_null:\n",
    "    advi = pm.ADVI()\n",
    "    params = advi.fit(n=100000,obj_optimizer=pm.adam(learning_rate=5e-3),callbacks=[pm.callbacks.CheckParametersConvergence(diff='absolute')])\n",
    "    traces = pm.sample_approx(params,draws=1000)\n",
    "    ppc = pm.sample_posterior_predictive(traces)"
   ]
  },
  {
   "cell_type": "code",
   "execution_count": 6,
   "metadata": {},
   "outputs": [],
   "source": [
    "means_dict = params.bij.rmap(params.params[0].eval())\n",
    "rho_dict = params.bij.rmap(params.params[1].eval())\n",
    "std_dict ={k: np.log(1 + np.exp(v)) for k, v in rho_dict.items()}"
   ]
  },
  {
   "cell_type": "code",
   "execution_count": 7,
   "metadata": {},
   "outputs": [
    {
     "data": {
      "text/plain": [
       "[tau_interval__, alpha_interval__]"
      ]
     },
     "execution_count": 7,
     "metadata": {},
     "output_type": "execute_result"
    }
   ],
   "source": [
    "model_null.vars"
   ]
  },
  {
   "cell_type": "code",
   "execution_count": 8,
   "metadata": {},
   "outputs": [],
   "source": [
    "def model_null_logp(trace):\n",
    "    log_p = 0.\n",
    "    log_p += stats.uniform.logpdf(trace['tau'],0,1)\n",
    "    log_p += stats.uniform.logpdf(trace['tau'],0,1)\n",
    "    mu = trace['tau'] * (E**trace['alpha'] - E_0**trace['alpha'])\n",
    "    log_p += stats.norm.logpdf(t_obs,mu,err).sum()\n",
    "    return log_p\n",
    "\n",
    "model_null_logp_vec = np.vectorize(model_null_logp)"
   ]
  },
  {
   "cell_type": "code",
   "execution_count": 9,
   "metadata": {},
   "outputs": [],
   "source": [
    "def q(trace,model):\n",
    "    qw=1.\n",
    "    l=0.\n",
    "    u=1.\n",
    "    for var in model.vars:\n",
    "        var = str(var).split('~')[0].strip()\n",
    "        qw *= variational_pdf(trace[str(var)],means_dict[str(var)], std_dict[str(var)],u,l)\n",
    "        #print(qw)\n",
    "    return qw\n",
    "q_vec = np.vectorize(q)"
   ]
  },
  {
   "cell_type": "code",
   "execution_count": 10,
   "metadata": {},
   "outputs": [
    {
     "name": "stdout",
     "output_type": "stream",
     "text": [
      "Approx evidence :  9.435807205262045e-21\n",
      "log approx evidence :  -46.10977522336721\n"
     ]
    }
   ],
   "source": [
    "# approximate evidence\n",
    "approx_evidence = (np.exp(model_null_logp_vec(traces)) / q_vec(traces,model_null)).mean()\n",
    "print('Approx evidence : ', approx_evidence)\n",
    "print('log approx evidence : ', np.log(approx_evidence))"
   ]
  },
  {
   "cell_type": "code",
   "execution_count": 11,
   "metadata": {},
   "outputs": [
    {
     "name": "stdout",
     "output_type": "stream",
     "text": [
      "-46.62207923866094\n"
     ]
    }
   ],
   "source": [
    "#ELBO\n",
    "elbo_null = (model_null_logp_vec(traces) - np.log(q_vec(traces,model_null))).mean()\n",
    "print(elbo_null)"
   ]
  },
  {
   "cell_type": "code",
   "execution_count": 12,
   "metadata": {},
   "outputs": [
    {
     "data": {
      "text/plain": [
       "[<matplotlib.lines.Line2D at 0x7f34e6bda490>]"
      ]
     },
     "execution_count": 12,
     "metadata": {},
     "output_type": "execute_result"
    },
    {
     "data": {
      "image/png": "[encoded data removed]",
      "text/plain": [
       "<Figure size 432x288 with 1 Axes>"
      ]
     },
     "metadata": {
      "needs_background": "light"
     },
     "output_type": "display_data"
    }
   ],
   "source": [
    "plt.xscale(\"log\")\n",
    "plt.yscale(\"log\")\n",
    "plt.plot(E,t_obs,'.')\n",
    "plt.plot(E,ppc['y_obs'][-1],'.')"
   ]
  },
  {
   "cell_type": "code",
   "execution_count": 13,
   "metadata": {},
   "outputs": [],
   "source": [
    "n = 1\n",
    "def integrand(i):\n",
    "    return ((1+i)**n/np.sqrt(O_M*(1+i)**3+O_L))\n",
    "I1, e1 = integrate.quad(integrand, 0, z)\n",
    "with pm.Model() as model_1:\n",
    "    tau = pm.Uniform('tau',lower=0,upper=5)\n",
    "    alpha = pm.Uniform('alpha',lower=0,upper=1)\n",
    "    E_qg = pm.Uniform('E_qg',lower=0,upper=1e16)\n",
    "    logEqg =  pm.Deterministic('logEqg', np.log(E_qg))\n",
    "    mu = tau*(E**alpha - E_0**alpha) + (-(1+n)/(2*H_0*3.24))*(E**n-E_0**n)*(10**14)*I1/(E_qg**n)\n",
    "    y_obs = pm.Normal('y_obs',mu=mu,sd=err, observed=t_obs)"
   ]
  },
  {
   "cell_type": "code",
   "execution_count": 14,
   "metadata": {},
   "outputs": [],
   "source": [
    "with model_1:\n",
    "    advi = pm.ADVI()"
   ]
  },
  {
   "cell_type": "code",
   "execution_count": 15,
   "metadata": {},
   "outputs": [],
   "source": [
    "tracker = pm.callbacks.Tracker(\n",
    "    mean=advi.approx.mean.eval,  # callable that returns mean\n",
    "    std=advi.approx.std.eval  # callable that returns std\n",
    ")"
   ]
  },
  {
   "cell_type": "code",
   "execution_count": 16,
   "metadata": {},
   "outputs": [
    {
     "name": "stderr",
     "output_type": "stream",
     "text": [
      "Average Loss = 30.76:   3%|▎         | 78999/2500000 [00:14<07:36, 5306.29it/s]     \n",
      "Convergence achieved at 79000\n",
      "Interrupted at 78,999 [3%]: Average Loss = 7.4792e+05\n",
      "100%|██████████| 1000/1000 [00:00<00:00, 1583.61it/s]\n"
     ]
    }
   ],
   "source": [
    "with model_1:\n",
    "    params_1 = advi.fit(n=2500000,obj_optimizer=pm.adam(learning_rate=5e-4),callbacks=[pm.callbacks.CheckParametersConvergence(diff='absolute'), tracker])\n",
    "    traces_1 = pm.sample_approx(params_1,draws=1000)\n",
    "    ppc_1 = pm.sample_posterior_predictive(traces_1)"
   ]
  },
  {
   "cell_type": "code",
   "execution_count": 17,
   "metadata": {},
   "outputs": [
    {
     "data": {
      "text/plain": [
       "[<matplotlib.lines.Line2D at 0x7f34e5f0a690>]"
      ]
     },
     "execution_count": 17,
     "metadata": {},
     "output_type": "execute_result"
    },
    {
     "data": {
      "image/png": "[encoded data removed]",
      "text/plain": [
       "<Figure size 432x288 with 1 Axes>"
      ]
     },
     "metadata": {
      "needs_background": "light"
     },
     "output_type": "display_data"
    }
   ],
   "source": [
    "plt.xscale(\"log\")\n",
    "plt.yscale(\"log\")\n",
    "plt.plot(E,t_obs,'.')\n",
    "plt.plot(E,ppc_1['y_obs'][-1],'.')\n"
   ]
  },
  {
   "cell_type": "code",
   "execution_count": 18,
   "metadata": {},
   "outputs": [
    {
     "name": "stdout",
     "output_type": "stream",
     "text": [
      "{'tau_interval__': array(-0.93909414), 'alpha_interval__': array(-1.64272525), 'E_qg_interval__': array(0.21302924)}\n",
      "{'tau_interval__': 0.024149111405336477, 'alpha_interval__': 0.011474591091344358, 'E_qg_interval__': 0.26998728345831213}\n"
     ]
    }
   ],
   "source": [
    "means_dict = params_1.bij.rmap(params_1.params[0].eval())\n",
    "rho_dict = params_1.bij.rmap(params_1.params[1].eval())\n",
    "std_dict ={k: np.log(1 + np.exp(v)) for k, v in rho_dict.items()}\n",
    "\n",
    "print(means_dict)\n",
    "print(std_dict)"
   ]
  },
  {
   "cell_type": "code",
   "execution_count": 19,
   "metadata": {},
   "outputs": [],
   "source": [
    "def model1_logp(trace):\n",
    "    n=1\n",
    "    log_p = 0.\n",
    "    log_p += stats.uniform.logpdf(trace['tau'],0.,5.)\n",
    "    log_p += stats.uniform.logpdf(trace['alpha'],0.,1.)\n",
    "    log_p += stats.uniform.logpdf(trace['E_qg'],0.,1e16)\n",
    "    mu = trace['tau'] * (E**trace['alpha'] - E_0**trace['alpha']) + (-(1+n)/(2*H_0*3.24))*(E**n-E_0**n)*(10**14)*I1/(trace['E_qg']**n)\n",
    "    log_p += stats.norm.logpdf(t_obs,mu,err).sum()\n",
    "    return log_p\n",
    "model1_logp_vec = np.vectorize(model1_logp)"
   ]
  },
  {
   "cell_type": "code",
   "execution_count": 20,
   "metadata": {},
   "outputs": [],
   "source": [
    "def q(trace,model):\n",
    "    qw=1.\n",
    "    l=0.\n",
    "    u=1.\n",
    "    for var in model.vars:\n",
    "        var = str(var).split('~')[0].strip()\n",
    "        if(str(var)[:len(str(var)) - len(\"_interval__\")]) == 'alpha':\n",
    "            l =0.\n",
    "            u = 1.\n",
    "            #print(str(var))\n",
    "        elif (str(var)[:len(str(var)) - len(\"_interval__\")]) == 'tau':\n",
    "            l = 0.\n",
    "            u = 5.\n",
    "            #print(str(var))\n",
    "        elif (str(var)[:len(str(var)) - len(\"_interval__\")]) == 'E_qg':\n",
    "            l = 0.\n",
    "            u = 1e16\n",
    "            #print(str(var))\n",
    "        qw *= variational_pdf(trace[str(var)],means_dict[str(var)], std_dict[str(var)],u,l)\n",
    "    return qw\n",
    "q_vec = np.vectorize(q)"
   ]
  },
  {
   "cell_type": "code",
   "execution_count": 21,
   "metadata": {},
   "outputs": [
    {
     "name": "stdout",
     "output_type": "stream",
     "text": [
      "Approx evidence :  1.1871494616595782e-13\n",
      "log approx evidence :  -29.76205118575454\n"
     ]
    }
   ],
   "source": [
    "# approximate evidence\n",
    "approx_evidence_1 = (np.exp(model1_logp_vec(traces_1)) / q_vec(traces_1,model_1)).mean()\n",
    "print('Approx evidence : ', approx_evidence_1)\n",
    "print('log approx evidence : ', np.log(approx_evidence_1))"
   ]
  },
  {
   "cell_type": "code",
   "execution_count": 22,
   "metadata": {},
   "outputs": [
    {
     "name": "stdout",
     "output_type": "stream",
     "text": [
      "-30.578153130493178\n"
     ]
    }
   ],
   "source": [
    "#ELBO\n",
    "elbo_1 = (model1_logp_vec(traces_1) - np.log(q_vec(traces_1,model_1))).mean()\n",
    "print(elbo_1)"
   ]
  },
  {
   "cell_type": "code",
   "execution_count": 23,
   "metadata": {},
   "outputs": [],
   "source": [
    "with model_1:\n",
    "    traces_1 = pm.sample_approx(params_1,draws=10000)"
   ]
  },
  {
   "cell_type": "code",
   "execution_count": 24,
   "metadata": {},
   "outputs": [
    {
     "data": {
      "text/plain": [
       "1.0"
      ]
     },
     "execution_count": 24,
     "metadata": {},
     "output_type": "execute_result"
    }
   ],
   "source": [
    "stats.uniform.pdf(1.5,1,1)"
   ]
  },
  {
   "cell_type": "code",
   "execution_count": 25,
   "metadata": {
    "scrolled": false
   },
   "outputs": [
    {
     "name": "stderr",
     "output_type": "stream",
     "text": [
      "arviz.stats.stats_utils - WARNING - Shape validation failed: input_shape: (1, 10000), minimum_shape: (chains=2, draws=4)\n",
      "arviz.stats.stats_utils - WARNING - Shape validation failed: input_shape: (1, 10000), minimum_shape: (chains=2, draws=4)\n",
      "arviz.stats.stats_utils - WARNING - Shape validation failed: input_shape: (1, 10000), minimum_shape: (chains=2, draws=4)\n",
      "arviz.stats.stats_utils - WARNING - Shape validation failed: input_shape: (1, 10000), minimum_shape: (chains=2, draws=4)\n"
     ]
    },
    {
     "data": {
      "text/html": [
       "<div>\n",
       "<style scoped>\n",
       "    .dataframe tbody tr th:only-of-type {\n",
       "        vertical-align: middle;\n",
       "    }\n",
       "\n",
       "    .dataframe tbody tr th {\n",
       "        vertical-align: top;\n",
       "    }\n",
       "\n",
       "    .dataframe thead th {\n",
       "        text-align: right;\n",
       "    }\n",
       "</style>\n",
       "<table border=\"1\" class=\"dataframe\">\n",
       "  <thead>\n",
       "    <tr style=\"text-align: right;\">\n",
       "      <th></th>\n",
       "      <th>mean</th>\n",
       "      <th>sd</th>\n",
       "      <th>hpd_3%</th>\n",
       "      <th>hpd_97%</th>\n",
       "      <th>mcse_mean</th>\n",
       "      <th>mcse_sd</th>\n",
       "      <th>ess_mean</th>\n",
       "      <th>ess_sd</th>\n",
       "      <th>ess_bulk</th>\n",
       "      <th>ess_tail</th>\n",
       "      <th>r_hat</th>\n",
       "    </tr>\n",
       "  </thead>\n",
       "  <tbody>\n",
       "    <tr>\n",
       "      <th>tau</th>\n",
       "      <td>1.405000e+00</td>\n",
       "      <td>2.500000e-02</td>\n",
       "      <td>1.360000e+00</td>\n",
       "      <td>1.452000e+00</td>\n",
       "      <td>0.000000e+00</td>\n",
       "      <td>0.000000e+00</td>\n",
       "      <td>9297.0</td>\n",
       "      <td>9297.0</td>\n",
       "      <td>9299.0</td>\n",
       "      <td>9784.0</td>\n",
       "      <td>NaN</td>\n",
       "    </tr>\n",
       "    <tr>\n",
       "      <th>alpha</th>\n",
       "      <td>1.620000e-01</td>\n",
       "      <td>2.000000e-03</td>\n",
       "      <td>1.590000e-01</td>\n",
       "      <td>1.650000e-01</td>\n",
       "      <td>0.000000e+00</td>\n",
       "      <td>0.000000e+00</td>\n",
       "      <td>9934.0</td>\n",
       "      <td>9934.0</td>\n",
       "      <td>9963.0</td>\n",
       "      <td>9725.0</td>\n",
       "      <td>NaN</td>\n",
       "    </tr>\n",
       "    <tr>\n",
       "      <th>E_qg</th>\n",
       "      <td>5.529004e+15</td>\n",
       "      <td>6.557485e+14</td>\n",
       "      <td>4.286833e+15</td>\n",
       "      <td>6.739315e+15</td>\n",
       "      <td>6.532406e+12</td>\n",
       "      <td>4.626738e+12</td>\n",
       "      <td>10077.0</td>\n",
       "      <td>10044.0</td>\n",
       "      <td>10067.0</td>\n",
       "      <td>9870.0</td>\n",
       "      <td>NaN</td>\n",
       "    </tr>\n",
       "    <tr>\n",
       "      <th>logEqg</th>\n",
       "      <td>3.624200e+01</td>\n",
       "      <td>1.210000e-01</td>\n",
       "      <td>3.600900e+01</td>\n",
       "      <td>3.645800e+01</td>\n",
       "      <td>1.000000e-03</td>\n",
       "      <td>1.000000e-03</td>\n",
       "      <td>10107.0</td>\n",
       "      <td>10107.0</td>\n",
       "      <td>10067.0</td>\n",
       "      <td>9870.0</td>\n",
       "      <td>NaN</td>\n",
       "    </tr>\n",
       "  </tbody>\n",
       "</table>\n",
       "</div>"
      ],
      "text/plain": [
       "                mean            sd        hpd_3%       hpd_97%     mcse_mean  \\\n",
       "tau     1.405000e+00  2.500000e-02  1.360000e+00  1.452000e+00  0.000000e+00   \n",
       "alpha   1.620000e-01  2.000000e-03  1.590000e-01  1.650000e-01  0.000000e+00   \n",
       "E_qg    5.529004e+15  6.557485e+14  4.286833e+15  6.739315e+15  6.532406e+12   \n",
       "logEqg  3.624200e+01  1.210000e-01  3.600900e+01  3.645800e+01  1.000000e-03   \n",
       "\n",
       "             mcse_sd  ess_mean   ess_sd  ess_bulk  ess_tail  r_hat  \n",
       "tau     0.000000e+00    9297.0   9297.0    9299.0    9784.0    NaN  \n",
       "alpha   0.000000e+00    9934.0   9934.0    9963.0    9725.0    NaN  \n",
       "E_qg    4.626738e+12   10077.0  10044.0   10067.0    9870.0    NaN  \n",
       "logEqg  1.000000e-03   10107.0  10107.0   10067.0    9870.0    NaN  "
      ]
     },
     "execution_count": 25,
     "metadata": {},
     "output_type": "execute_result"
    }
   ],
   "source": [
    "pm.summary(traces_1)"
   ]
  },
  {
   "cell_type": "code",
   "execution_count": 26,
   "metadata": {},
   "outputs": [],
   "source": [
    "n = 2\n",
    "def integrand(i):\n",
    "    return ((1+i)**n/np.sqrt(O_M*(1+i)**3+O_L))\n",
    "I2, e2 = integrate.quad(integrand, 0, z)\n",
    "with pm.Model() as model_2:\n",
    "    tau = pm.Uniform('tau',lower=1,upper=5)\n",
    "    alpha = pm.Uniform('alpha',lower=0,upper=0.19)\n",
    "    E_qg = pm.Uniform('E_qg',lower=0,upper=1e8)\n",
    "    Eqg_log = pm.Deterministic('logEqg', np.log(E_qg))\n",
    "    mu = tau*(E**alpha - E_0**alpha) + (-(1+n)/(2*H_0*3.24))*(E**n-E_0**n)*(10**8)*I2/(E_qg**n)\n",
    "    y_obs = pm.Normal('y_obs',mu=mu,sd=err, observed=t_obs)"
   ]
  },
  {
   "cell_type": "code",
   "execution_count": 27,
   "metadata": {},
   "outputs": [],
   "source": [
    "with model_2:\n",
    "    advi = pm.ADVI()"
   ]
  },
  {
   "cell_type": "code",
   "execution_count": 28,
   "metadata": {},
   "outputs": [],
   "source": [
    "tracker = pm.callbacks.Tracker(\n",
    "    mean=advi.approx.mean.eval,  # callable that returns mean\n",
    "    std=advi.approx.std.eval  # callable that returns std\n",
    ")\n"
   ]
  },
  {
   "cell_type": "code",
   "execution_count": 29,
   "metadata": {},
   "outputs": [
    {
     "name": "stderr",
     "output_type": "stream",
     "text": [
      "Average Loss = 27.274:   6%|▌         | 142599/2500000 [00:26<07:20, 5355.75it/s]\n",
      "Convergence achieved at 142600\n",
      "Interrupted at 142,599 [5%]: Average Loss = 36.569\n",
      "100%|██████████| 10000/10000 [00:06<00:00, 1638.73it/s]\n"
     ]
    }
   ],
   "source": [
    "with model_2:\n",
    "    params_2 = advi.fit(n=2500000,obj_optimizer=pm.adam(learning_rate=5e-4),callbacks=[pm.callbacks.CheckParametersConvergence(diff='absolute'), tracker])\n",
    "    traces_2 = pm.sample_approx(params_2,draws=10000)\n",
    "    ppc_2 = pm.sample_posterior_predictive(traces_2)"
   ]
  },
  {
   "cell_type": "code",
   "execution_count": 30,
   "metadata": {},
   "outputs": [
    {
     "data": {
      "text/plain": [
       "[<matplotlib.lines.Line2D at 0x7f34dfc48d50>]"
      ]
     },
     "execution_count": 30,
     "metadata": {},
     "output_type": "execute_result"
    },
    {
     "data": {
      "image/png": "[encoded data removed]",
      "text/plain": [
       "<Figure size 432x288 with 1 Axes>"
      ]
     },
     "metadata": {
      "needs_background": "light"
     },
     "output_type": "display_data"
    }
   ],
   "source": [
    "plt.xscale(\"log\")\n",
    "plt.yscale(\"log\")\n",
    "plt.plot(E,t_obs,'.')\n",
    "plt.plot(E,ppc_2['y_obs'][-1],'.')"
   ]
  },
  {
   "cell_type": "code",
   "execution_count": 31,
   "metadata": {},
   "outputs": [
    {
     "name": "stdout",
     "output_type": "stream",
     "text": [
      "{'alpha_interval__': array(0.03103987), 'tau_interval__': array(0.03907811), 'E_qg_interval__': array(-1.59815594)}\n",
      "{'alpha_interval__': 0.026238484722993033, 'tau_interval__': 0.058810859511865224, 'E_qg_interval__': 0.14843613678672768}\n"
     ]
    }
   ],
   "source": [
    "means_dict = params_2.bij.rmap(params_2.params[0].eval())\n",
    "rho_dict = params_2.bij.rmap(params_2.params[1].eval())\n",
    "std_dict ={k: np.log(1 + np.exp(v)) for k, v in rho_dict.items()}\n",
    "\n",
    "print(means_dict)\n",
    "print(std_dict)"
   ]
  },
  {
   "cell_type": "code",
   "execution_count": 32,
   "metadata": {},
   "outputs": [],
   "source": [
    "def model2_logp(trace):\n",
    "    n=2\n",
    "    log_p = 0.\n",
    "    log_p += stats.uniform.logpdf(trace['tau'],1.,4.)\n",
    "    log_p += stats.uniform.logpdf(trace['alpha'],0.,0.19)\n",
    "    log_p += stats.uniform.logpdf(trace['E_qg'],0.,1e8)\n",
    "    mu = trace['tau'] * (E**trace['alpha'] - E_0**trace['alpha']) +(-(1+n)/(2*H_0*3.24))*(E**n-E_0**n)*(10**8)*I2/(trace['E_qg']**n)\n",
    "    log_p += stats.norm.logpdf(t_obs,mu,err).sum()\n",
    "    return log_p\n",
    "model2_logp_vec = np.vectorize(model2_logp)"
   ]
  },
  {
   "cell_type": "code",
   "execution_count": 33,
   "metadata": {},
   "outputs": [],
   "source": [
    "def q(trace,model):\n",
    "    qw=1.\n",
    "    l=0.\n",
    "    u=0.19\n",
    "    for var in model.vars:\n",
    "        var = str(var).split('~')[0].strip()\n",
    "        #print(str(var))\n",
    "        if(str(var)[:len(str(var)) - len(\"_interval__\")]) == 'alpha':\n",
    "            l =0.\n",
    "            u = 0.189\n",
    "        elif (str(var)[:len(str(var)) - len(\"_interval__\")]) == 'tau':\n",
    "            l = 1.\n",
    "            u = 5.\n",
    "        elif (str(var)[:len(str(var)) - len(\"_interval__\")]) == 'E_qg':\n",
    "            l = 0.\n",
    "            u = 1e8\n",
    "        qw *= variational_pdf(trace[str(var)],means_dict[str(var)], std_dict[str(var)],u,l)\n",
    "        #print(qw)\n",
    "    return qw\n",
    "q_vec = np.vectorize(q)"
   ]
  },
  {
   "cell_type": "code",
   "execution_count": 34,
   "metadata": {},
   "outputs": [
    {
     "name": "stdout",
     "output_type": "stream",
     "text": [
      "Approx evidence :  3.745407238798055e-12\n",
      "log approx evidence :  -26.310490762869197\n"
     ]
    }
   ],
   "source": [
    "# approximate evidence\n",
    "approx_evidence_2 = (np.exp(model2_logp_vec(traces_2)) / q_vec(traces_2,model_2)).mean()\n",
    "print('Approx evidence : ', approx_evidence_2)\n",
    "print('log approx evidence : ', np.log(approx_evidence_2))"
   ]
  },
  {
   "cell_type": "code",
   "execution_count": 35,
   "metadata": {},
   "outputs": [
    {
     "name": "stdout",
     "output_type": "stream",
     "text": [
      "-27.27602029565064\n"
     ]
    }
   ],
   "source": [
    "#ELBO\n",
    "elbo_2 = (model2_logp_vec(traces_2) - np.log(q_vec(traces_2,model_2))).mean()\n",
    "print(elbo_2)"
   ]
  },
  {
   "cell_type": "code",
   "execution_count": 36,
   "metadata": {},
   "outputs": [],
   "source": [
    "with model_2:\n",
    "    traces_2 = pm.sample_approx(params_2,draws=10000)"
   ]
  },
  {
   "cell_type": "code",
   "execution_count": 37,
   "metadata": {
    "scrolled": true
   },
   "outputs": [
    {
     "name": "stderr",
     "output_type": "stream",
     "text": [
      "arviz.stats.stats_utils - WARNING - Shape validation failed: input_shape: (1, 10000), minimum_shape: (chains=2, draws=4)\n",
      "arviz.stats.stats_utils - WARNING - Shape validation failed: input_shape: (1, 10000), minimum_shape: (chains=2, draws=4)\n",
      "arviz.stats.stats_utils - WARNING - Shape validation failed: input_shape: (1, 10000), minimum_shape: (chains=2, draws=4)\n",
      "arviz.stats.stats_utils - WARNING - Shape validation failed: input_shape: (1, 10000), minimum_shape: (chains=2, draws=4)\n"
     ]
    },
    {
     "data": {
      "text/html": [
       "<div>\n",
       "<style scoped>\n",
       "    .dataframe tbody tr th:only-of-type {\n",
       "        vertical-align: middle;\n",
       "    }\n",
       "\n",
       "    .dataframe tbody tr th {\n",
       "        vertical-align: top;\n",
       "    }\n",
       "\n",
       "    .dataframe thead th {\n",
       "        text-align: right;\n",
       "    }\n",
       "</style>\n",
       "<table border=\"1\" class=\"dataframe\">\n",
       "  <thead>\n",
       "    <tr style=\"text-align: right;\">\n",
       "      <th></th>\n",
       "      <th>mean</th>\n",
       "      <th>sd</th>\n",
       "      <th>hpd_3%</th>\n",
       "      <th>hpd_97%</th>\n",
       "      <th>mcse_mean</th>\n",
       "      <th>mcse_sd</th>\n",
       "      <th>ess_mean</th>\n",
       "      <th>ess_sd</th>\n",
       "      <th>ess_bulk</th>\n",
       "      <th>ess_tail</th>\n",
       "      <th>r_hat</th>\n",
       "    </tr>\n",
       "  </thead>\n",
       "  <tbody>\n",
       "    <tr>\n",
       "      <th>tau</th>\n",
       "      <td>3.039000e+00</td>\n",
       "      <td>0.058</td>\n",
       "      <td>2.928000e+00</td>\n",
       "      <td>3.144000e+00</td>\n",
       "      <td>0.001</td>\n",
       "      <td>0.000</td>\n",
       "      <td>9532.0</td>\n",
       "      <td>9509.0</td>\n",
       "      <td>9538.0</td>\n",
       "      <td>9263.0</td>\n",
       "      <td>NaN</td>\n",
       "    </tr>\n",
       "    <tr>\n",
       "      <th>alpha</th>\n",
       "      <td>9.600000e-02</td>\n",
       "      <td>0.001</td>\n",
       "      <td>9.400000e-02</td>\n",
       "      <td>9.900000e-02</td>\n",
       "      <td>0.000</td>\n",
       "      <td>0.000</td>\n",
       "      <td>10081.0</td>\n",
       "      <td>10081.0</td>\n",
       "      <td>10080.0</td>\n",
       "      <td>10046.0</td>\n",
       "      <td>NaN</td>\n",
       "    </tr>\n",
       "    <tr>\n",
       "      <th>E_qg</th>\n",
       "      <td>1.695405e+07</td>\n",
       "      <td>2100066.119</td>\n",
       "      <td>1.320832e+07</td>\n",
       "      <td>2.100601e+07</td>\n",
       "      <td>21086.789</td>\n",
       "      <td>14929.061</td>\n",
       "      <td>9918.0</td>\n",
       "      <td>9895.0</td>\n",
       "      <td>9940.0</td>\n",
       "      <td>9612.0</td>\n",
       "      <td>NaN</td>\n",
       "    </tr>\n",
       "    <tr>\n",
       "      <th>logEqg</th>\n",
       "      <td>1.663800e+01</td>\n",
       "      <td>0.124</td>\n",
       "      <td>1.640900e+01</td>\n",
       "      <td>1.687000e+01</td>\n",
       "      <td>0.001</td>\n",
       "      <td>0.001</td>\n",
       "      <td>9938.0</td>\n",
       "      <td>9937.0</td>\n",
       "      <td>9940.0</td>\n",
       "      <td>9612.0</td>\n",
       "      <td>NaN</td>\n",
       "    </tr>\n",
       "  </tbody>\n",
       "</table>\n",
       "</div>"
      ],
      "text/plain": [
       "                mean           sd        hpd_3%       hpd_97%  mcse_mean  \\\n",
       "tau     3.039000e+00        0.058  2.928000e+00  3.144000e+00      0.001   \n",
       "alpha   9.600000e-02        0.001  9.400000e-02  9.900000e-02      0.000   \n",
       "E_qg    1.695405e+07  2100066.119  1.320832e+07  2.100601e+07  21086.789   \n",
       "logEqg  1.663800e+01        0.124  1.640900e+01  1.687000e+01      0.001   \n",
       "\n",
       "          mcse_sd  ess_mean   ess_sd  ess_bulk  ess_tail  r_hat  \n",
       "tau         0.000    9532.0   9509.0    9538.0    9263.0    NaN  \n",
       "alpha       0.000   10081.0  10081.0   10080.0   10046.0    NaN  \n",
       "E_qg    14929.061    9918.0   9895.0    9940.0    9612.0    NaN  \n",
       "logEqg      0.001    9938.0   9937.0    9940.0    9612.0    NaN  "
      ]
     },
     "execution_count": 37,
     "metadata": {},
     "output_type": "execute_result"
    }
   ],
   "source": [
    "pm.summary(traces_2)"
   ]
  },
  {
   "cell_type": "markdown",
   "metadata": {},
   "source": [
    "Now we have all three models we can do model selection. Here we investigate two ways of  model selection : $WAIC$ and $Bayes Factor$.\n",
    "We use the PYMC3's *compare* functioin to get WAIC for the three models and it supports model with n=2. Next we calculate the Bayes Factor. We find the *Odd's ratio* as:\n",
    "\n",
    "$$\n",
    "O_{21} \\equiv \\frac{P(M_2~|~D)}{P(M_1~|~D)} = \\frac{P(D~|~M_2)}{P(D~|~M_1)}\\frac{P(M_2)}{P(M_1)}\n",
    "$$\n",
    "\n",
    "Here the ratio $P(M_2) / P(M_1)$ is the *prior odds ratio*, and is often assumed to be equal to 1 if no compelling prior evidence favors one model over another.\n",
    "The ratio $P(D~|~M_2) / P(D~|~M_1)$ is the *Bayes factor*, and is the key to Bayesian model selection.\n",
    "\n",
    "The Bayes factor can be computed by evaluating the integral over the parameter likelihood:\n",
    "\n",
    "$$\n",
    "P(D~|~M) = \\int_\\Omega P(D~|~\\theta, M) P(\\theta~|~M) d\\theta\n",
    "$$\n",
    "\n",
    "This integral is over the entire parameter space of the model, and thus can be extremely computationally intensive, especially as the dimension of the model grows beyond a few.\n",
    "\n",
    "However, PYMC3 supplies us with log joint likelihood of the model as *logp* function. So we can approximate $P(D~|~M)$ as the mean of exponentiation of this joint likelihood:\n",
    "\n",
    "$$\n",
    "P(D~|~M) = 1/n\\sum_{i=1}^n P(D~|~\\theta_i, M) P(\\theta_i~|~M) \n",
    "$$"
   ]
  },
  {
   "cell_type": "code",
   "execution_count": 38,
   "metadata": {},
   "outputs": [
    {
     "name": "stdout",
     "output_type": "stream",
     "text": [
      "12581323.842623059\n",
      "396935541.1065799\n",
      "0.03169613838949455\n",
      "31.549584612220226\n"
     ]
    }
   ],
   "source": [
    "print(approx_evidence_1/approx_evidence)\n",
    "print(approx_evidence_2/approx_evidence)\n",
    "print(approx_evidence_1/approx_evidence_2)\n",
    "print(approx_evidence_2/approx_evidence_1)"
   ]
  },
  {
   "cell_type": "code",
   "execution_count": 39,
   "metadata": {},
   "outputs": [],
   "source": [
    "traces_1 = pm.sample_approx(params_1,draws=5000)"
   ]
  },
  {
   "cell_type": "code",
   "execution_count": 40,
   "metadata": {},
   "outputs": [
    {
     "name": "stderr",
     "output_type": "stream",
     "text": [
      "/home/geethu/miniconda3/envs/vipaperenv/lib/python3.7/site-packages/corner/corner.py:806: UserWarning: The following kwargs were not used by contour: 'color'\n",
      "  ax.contour(X2, Y2, H2.T, V, **contour_kwargs)\n",
      "/home/geethu/miniconda3/envs/vipaperenv/lib/python3.7/site-packages/corner/corner.py:806: UserWarning: The following kwargs were not used by contour: 'color'\n",
      "  ax.contour(X2, Y2, H2.T, V, **contour_kwargs)\n",
      "/home/geethu/miniconda3/envs/vipaperenv/lib/python3.7/site-packages/corner/corner.py:806: UserWarning: The following kwargs were not used by contour: 'color'\n",
      "  ax.contour(X2, Y2, H2.T, V, **contour_kwargs)\n"
     ]
    },
    {
     "data": {
      "image/png": "[encoded data removed]",
      "text/plain": [
       "<Figure size 547.2x547.2 with 9 Axes>"
      ]
     },
     "metadata": {
      "needs_background": "light"
     },
     "output_type": "display_data"
    }
   ],
   "source": [
    "dn = np.asarray([traces_1['tau'],traces_1['alpha'],traces_1['logEqg']/np.log(10)]).T\n",
    "#corner.corner(dn,labels=[\"tau\", \"alpha\",\"logEqg\"])\n",
    "corner.corner(dn, labels=[\"tau\", \"alpha\",\"logEqg\"] ,levels=(0.68,0.95,0.99),color = 'b',alpha=0.1,fill_contours = 1,show_titles=True,title_fmt='.3f',max_n_ticks = 3, title_kwargs={\"fontsize\": 14},label_kwargs={\"fontsize\": 16},contour_kwargs={\"color\": 'r'})\n",
    "plt.savefig('n_1.png')"
   ]
  },
  {
   "cell_type": "code",
   "execution_count": 41,
   "metadata": {},
   "outputs": [],
   "source": [
    "traces_2 = pm.sample_approx(params_2,draws=5000)"
   ]
  },
  {
   "cell_type": "code",
   "execution_count": 42,
   "metadata": {},
   "outputs": [
    {
     "name": "stderr",
     "output_type": "stream",
     "text": [
      "/home/geethu/miniconda3/envs/vipaperenv/lib/python3.7/site-packages/corner/corner.py:806: UserWarning: The following kwargs were not used by contour: 'color'\n",
      "  ax.contour(X2, Y2, H2.T, V, **contour_kwargs)\n",
      "/home/geethu/miniconda3/envs/vipaperenv/lib/python3.7/site-packages/corner/corner.py:806: UserWarning: The following kwargs were not used by contour: 'color'\n",
      "  ax.contour(X2, Y2, H2.T, V, **contour_kwargs)\n",
      "/home/geethu/miniconda3/envs/vipaperenv/lib/python3.7/site-packages/corner/corner.py:806: UserWarning: The following kwargs were not used by contour: 'color'\n",
      "  ax.contour(X2, Y2, H2.T, V, **contour_kwargs)\n"
     ]
    },
    {
     "data": {
      "image/png": "[encoded data removed]",
      "text/plain": [
       "<Figure size 547.2x547.2 with 9 Axes>"
      ]
     },
     "metadata": {
      "needs_background": "light"
     },
     "output_type": "display_data"
    }
   ],
   "source": [
    "dn = np.asarray([traces_2['tau'],traces_2['alpha'],traces_2['logEqg']/np.log(10)]).T\n",
    "#corner.corner(dn,labels=[\"tau\", \"alpha\",\"logEqg\"])\n",
    "corner.corner(dn, labels=[\"tau\", \"alpha\",\"logEqg\"] ,levels=(0.68,0.95,0.99),color = 'b',alpha=0.1,fill_contours = 1,show_titles=True,title_fmt='.3f',max_n_ticks = 3, title_kwargs={\"fontsize\": 14},label_kwargs={\"fontsize\": 16},contour_kwargs={\"color\": 'r'})\n",
    "plt.savefig(\"n_2.png\")"
   ]
  },
  {
   "cell_type": "markdown",
   "metadata": {},
   "source": [
    "# nestle"
   ]
  },
  {
   "cell_type": "code",
   "execution_count": 43,
   "metadata": {},
   "outputs": [],
   "source": [
    "import nestle"
   ]
  },
  {
   "cell_type": "code",
   "execution_count": 44,
   "metadata": {},
   "outputs": [
    {
     "name": "stdout",
     "output_type": "stream",
     "text": [
      "-26.529419156698523\n",
      "0.24928482595140108\n",
      "CPU times: user 57.4 s, sys: 98.6 ms, total: 57.5 s\n",
      "Wall time: 57.2 s\n"
     ]
    }
   ],
   "source": [
    "%%time\n",
    "n = 1\n",
    "def loglike(P):\n",
    "    mu = P[0]*(E**P[1] - E_0**P[1]) + (-(1+n)/(2*H_0*3.24))*(E**n-E_0**n)*(10**14)*I1/(P[2]**n)\n",
    "    return sum(stats.norm.logpdf(*args) for args in zip(t_obs,mu,err))\n",
    "\n",
    "def prior_transform(P):\n",
    "    return np.array([5.*P[0],P[1],1e16*P[2]])\n",
    "\n",
    "result_1 = nestle.sample(loglike, prior_transform, 3)\n",
    "\n",
    "print(result_1.logz)     # log evidence\n",
    "print(result_1.logzerr)"
   ]
  },
  {
   "cell_type": "code",
   "execution_count": 45,
   "metadata": {},
   "outputs": [
    {
     "name": "stdout",
     "output_type": "stream",
     "text": [
      "-24.044890529622155\n",
      "0.24239140120985234\n",
      "CPU times: user 34.9 s, sys: 145 ms, total: 35.1 s\n",
      "Wall time: 34.8 s\n"
     ]
    }
   ],
   "source": [
    "%%time\n",
    "n = 2\n",
    "def loglike(P):\n",
    "    mu = P[0]*(E**P[1] - E_0**P[1]) + (-(1+n)/(2*H_0*3.24))*(E**n-E_0**n)*(10**8)*I2/(P[2]**n)\n",
    "    return sum(stats.norm.logpdf(*args) for args in zip(t_obs,mu,err))\n",
    "\n",
    "def prior_transform(P):\n",
    "    return np.array([4.*P[0] + 1.,0.19*P[1],1e8*P[2]])\n",
    "\n",
    "result_2 = nestle.sample(loglike, prior_transform, 3)\n",
    "\n",
    "print(result_2.logz)     # log evidence\n",
    "print(result_2.logzerr)"
   ]
  },
  {
   "cell_type": "code",
   "execution_count": 46,
   "metadata": {},
   "outputs": [
    {
     "name": "stdout",
     "output_type": "stream",
     "text": [
      "-45.88728231256574\n",
      "0.26678025160638985\n",
      "CPU times: user 7.28 s, sys: 75.5 ms, total: 7.35 s\n",
      "Wall time: 7.26 s\n"
     ]
    }
   ],
   "source": [
    "%%time\n",
    "def loglike(P):\n",
    "    mu = P[0]*(E**P[1] - E_0**P[1]) \n",
    "    return sum(stats.norm.logpdf(*args) for args in zip(t_obs,mu,err))\n",
    "\n",
    "def prior_transform(P):\n",
    "    return np.array([P[0],P[1]])\n",
    "\n",
    "result_0 = nestle.sample(loglike, prior_transform, 2)\n",
    "\n",
    "print(result_0.logz)     # log evidence\n",
    "print(result_0.logzerr)"
   ]
  },
  {
   "cell_type": "code",
   "execution_count": 47,
   "metadata": {},
   "outputs": [
    {
     "name": "stdout",
     "output_type": "stream",
     "text": [
      "Nestle:\n",
      "n_1/null : \n",
      "255277859.72433615\n",
      "n_2/null : \n",
      "3062176525.596456\n",
      "n_1/n_2 : \n",
      "0.08336484118093508\n",
      "n_2/n_1 : \n",
      "11.995464584759414\n",
      "1.079017072869929\n"
     ]
    }
   ],
   "source": [
    "print(\"Nestle:\")\n",
    "print(\"n_1/null : \")\n",
    "print(np.exp(result_1.logz)/np.exp(result_0.logz))\n",
    "print(\"n_2/null : \")\n",
    "print(np.exp(result_2.logz)/np.exp(result_0.logz))\n",
    "print(\"n_1/n_2 : \")\n",
    "print(np.exp(result_1.logz)/np.exp(result_2.logz))\n",
    "print(\"n_2/n_1 : \")\n",
    "print(np.exp(result_2.logz)/np.exp(result_1.logz))\n",
    "print((result_2.logz-result_1.logz) / np.log(10))"
   ]
  },
  {
   "cell_type": "code",
   "execution_count": 48,
   "metadata": {},
   "outputs": [
    {
     "name": "stdout",
     "output_type": "stream",
     "text": [
      "Pymc3:\n",
      "n_1/null : \n",
      "12581323.842623059\n",
      "7.099726341212331\n",
      "n_2/null : \n",
      "396935541.1065799\n",
      "8.59871998682709\n",
      "n_1/n_2 : \n",
      "0.03169613838949455\n",
      "n_2/n_1 : \n",
      "31.549584612220226\n",
      "1.4989936456147586\n"
     ]
    }
   ],
   "source": [
    "print(\"Pymc3:\")\n",
    "print(\"n_1/null : \")\n",
    "print(approx_evidence_1/approx_evidence)\n",
    "print(np.log(approx_evidence_1/approx_evidence) / np.log(10))\n",
    "print(\"n_2/null : \")\n",
    "print(approx_evidence_2/approx_evidence)\n",
    "print(np.log(approx_evidence_2/approx_evidence) / np.log(10))\n",
    "print(\"n_1/n_2 : \")\n",
    "print(approx_evidence_1/approx_evidence_2)\n",
    "print(\"n_2/n_1 : \")\n",
    "print(approx_evidence_2/approx_evidence_1)\n",
    "print(np.log(approx_evidence_2/approx_evidence_1) / np.log(10))"
   ]
  },
  {
   "cell_type": "code",
   "execution_count": null,
   "metadata": {},
   "outputs": [],
   "source": []
  }
 ],
 "metadata": {
  "kernelspec": {
   "display_name": "Python 3",
   "language": "python",
   "name": "python3"
  },
  "language_info": {
   "codemirror_mode": {
    "name": "ipython",
    "version": 3
   },
   "file_extension": ".py",
   "mimetype": "text/x-python",
   "name": "python",
   "nbconvert_exporter": "python",
   "pygments_lexer": "ipython3",
   "version": "3.7.9"
  }
 },
 "nbformat": 4,
 "nbformat_minor": 2
}
