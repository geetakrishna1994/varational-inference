{
 "cells": [
  {
   "cell_type": "code",
   "execution_count": 1,
   "metadata": {},
   "outputs": [],
   "source": [
    "import numpy as np\n",
    "np.random.seed(1234)\n",
    "import scipy\n",
    "import pymc3 as pm\n",
    "import theano\n",
    "import theano.tensor as tt\n",
    "import numba\n",
    "import matplotlib.pyplot as plt\n",
    "import warnings\n",
    "import os\n",
    "import pandas as pd"
   ]
  },
  {
   "cell_type": "code",
   "execution_count": 2,
   "metadata": {},
   "outputs": [],
   "source": [
    "if not os.path.exists('./plots'):\n",
    "    os.mkdir('./plots')\n",
    "\n",
    "# for solving the equation for u\n",
    "@numba.vectorize(\"float64(float64, float64)\", nopython=True)\n",
    "def kepler(M, e):\n",
    "    E0 = M\n",
    "    E = M\n",
    "    \n",
    "    for i in range(50000):\n",
    "        g = E0 - e * np.sin(E0) - M\n",
    "        gp = 1. - e * np.cos(E0)\n",
    "        E = E0 - g / gp\n",
    "        if np.abs((E - E0) / E) <= 1.234e-6:\n",
    "            return E\n",
    "        E0 = E\n",
    "    #print(\"returns nan\")\n",
    "    return np.nan\n",
    "\n",
    "class Kepler(theano.Op):\n",
    "    def make_node(self, M, e):\n",
    "        M = tt.as_tensor_variable(M)\n",
    "        e = tt.as_tensor_variable(e)\n",
    "        return theano.Apply(self, [M, e], [M.type()])\n",
    "    \n",
    "    def perform(self, node, inputs, outputs):\n",
    "        M, e = inputs\n",
    "        e = np.float64(e)\n",
    "        outputs[0][0] = kepler(M, e)\n",
    "    \n",
    "    def grad(self, inputs, g):\n",
    "        M, e = inputs\n",
    "        E = self(M, e)\n",
    "        dE_dM = 1. / (1.0 - e * tt.cos(E))\n",
    "        dE_de = tt.sin(E) * dE_dM\n",
    "        return dE_dM * g[0], (dE_de * g).sum()\n",
    "    \n",
    "    def infer_shape(self, node, i0_shapes):\n",
    "        return [i0_shapes[0]]\n",
    "\n",
    "# data creation\n",
    "def true_anomaly(t,tp,e,tau):\n",
    "    temp1=np.min((t-tau)/tp)-1\n",
    "    temp2=np.max((t-tau)/tp)+1\n",
    "    u1=np.linspace(2*np.pi*temp1,2*np.pi*temp2,1000)\n",
    "    ma=u1-e*np.sin(u1)\n",
    "    myfunc=scipy.interpolate.interp1d(ma,u1)\n",
    "    u=myfunc((2*np.pi)*(t-tau)/tp)\n",
    "    return 2*np.arctan(np.sqrt((1+e)/(1-e))*np.tan(0.5*u))\n",
    "\n",
    "def vr(t,kappa,tp,e,tau,omega,v0):\n",
    "    omega=np.radians(omega)\n",
    "    f=true_anomaly(t,tp,e,tau)\n",
    "    return kappa*(np.cos(f+omega)+e*np.cos(omega))+v0\n",
    "\n",
    "def create_data(num_points):\n",
    "    kappa=0.15\n",
    "    tp=350.0\n",
    "    e=0.3\n",
    "    tau=87.5\n",
    "    omega=-90.0\n",
    "    v0=0.0\n",
    "    t = np.linspace(0,tp*2,num_points)\n",
    "    vr1=vr(t,kappa,tp,e,tau,omega,v0)\n",
    "    err = np.random.normal(0.,0.02,num_points) % 1e-2\n",
    "    return t,vr1+err,err"
   ]
  },
  {
   "cell_type": "code",
   "execution_count": 3,
   "metadata": {},
   "outputs": [
    {
     "name": "stdout",
     "output_type": "stream",
     "text": [
      "0.004761738338823059\n",
      "0.005014625779766724\n"
     ]
    },
    {
     "data": {
      "text/plain": [
       "<Figure size 432x288 with 0 Axes>"
      ]
     },
     "metadata": {},
     "output_type": "display_data"
    }
   ],
   "source": [
    "t,rv,rv_err = create_data(500)\n",
    "plt.errorbar(x=t,y=rv,yerr=rv_err,fmt='.')\n",
    "plt.savefig('./plots/data.png')\n",
    "plt.clf()\n",
    "print(rv.mean())\n",
    "print(rv_err.mean())"
   ]
  },
  {
   "cell_type": "code",
   "execution_count": 4,
   "metadata": {},
   "outputs": [],
   "source": [
    "with pm.Model() as my_model:\n",
    "        #balan exofit paper\n",
    "    #https://watermark.silverchair.com/mnras0394-1936.pdf?token=AQECAHi208BE49Ooan9kkhW_Ercy7Dm3ZL_9Cf3qfKAc485ysgAAAtMwggLPBgkqhkiG9w0BBwagggLAMIICvAIBADCCArUGCSqGSIb3DQEHATAeBglghkgBZQMEAS4wEQQMlOR-UI7QAtiAY8_CAgEQgIIChh4btrd3dwkOoOua9LWY1G4p0hj5VmbSCZTamd-_DeAexRP3y4uwHx-YAG5FPkeiUFq5voesTmdpPgLX3YQrZPK11kPRBcbe-UAL1u_Tlu-H0VdagkwU1vQ5l5LCRqL8g3Ndnqa4b-mML1xpKMvmY5vmjD9hZsM9urVahFTWcOQeYx3YFPq9qR33Zrn6Zie4uPkpmdd25BZAUlam_uTo4jp3soq73cerr2lzTHvap_o_HrPR4jmU73jaJuk9OdgQWcsSJHVpg08cC16qx7IKyn_rQsLyF1FX4JqIaRpVdHZYpTrj42CB4lYE_Df9RjMTN0h_54mXHbaFYUu-yb9I-XsGcVQVIUj8mJash6zqwc9TZ5kULaXRJ7BZa4NSUKr-4q6xp9aPID7ipRphLpFTmR_tKbPWX2wvdeu862L0JtjrSGAoR2WZZiCa1ptDmw1VFyPO0JTtzgVqsoTyxCNm7GwYrIVb0BfUBAStq9-WwjmxAUrxsvXQqlXUQ2Lfccd6yUaOn8RuXsM8rcHXk3vf8VhEyF1cs0QUxIa9WD8O6lHXh7jHD8ssvwWe4AnFlI1_JtGxqtN4X8cjp_xMXO7OfQ1YvK7bq7zb9hf4IvHCxHJRQS_4CoGvsXKLavw7ZCbXch7CVZBZG4nYnxHZnnP5tdSJZCccA3Yy05CeFaBRF2lAt3Fdmq9sPryUCJyZLt_V7DCjk53jVyop-Lp1zHb6YmO0GqMtG-2W7e4OHht9iPQR2N0oH-HRpbg4CWl-2RXyGndo6cMVKPyGzOmPn65kllxx3yICH9rIQWfqWsHTnxL3x8Zl06iZek2sYv5fs8nK5resplk8BeZcZ4USCkDtNlgDuLWtMu4\n",
    "    '''\n",
    "        jeffereys prior\n",
    "        T = 1 / [T * ln(tmax/tmin)]\n",
    "    '''\n",
    "    def jeffereys_t_logp(t, tmax=15000, tmin=0.2):\n",
    "        return -tt.log(t * tt.log(tmax / tmin)) \n",
    "    '''\n",
    "        modified jeffereys prior\n",
    "        k = 1/(k+k0) * 1/ln(1 + kmax/k0)\n",
    "    '''\n",
    "    def mod_jeffereys_k_logp(k, kmax=400, k0=1):\n",
    "        return -tt.log((k + k0) * tt.log( 1 + kmax/k0))\n",
    "    T = pm.DensityDist(\"T\", jeffereys_t_logp,transform=pm.distributions.transforms.log, testval = 350.)\n",
    "    K = pm.DensityDist(\"K\", mod_jeffereys_k_logp,transform=pm.distributions.transforms.Log(), testval=0.15)\n",
    "    e = pm.Uniform('e', lower=0., upper=1., testval=0.3)\n",
    "    w = pm.Uniform(\"w\", lower=-2 * np.pi, upper=2 * np.pi, testval=-np.pi/2)\n",
    "    tau = pm.Uniform(\"tau\", lower=0, upper=2 * np.pi, testval=np.radians(87.5))\n",
    "    M = 2 * (np.pi / T) * t - tau\n",
    "    u = Kepler()(M,e)\n",
    "    f = 2 * tt.arctan2(tt.sqrt(1 + e) * tt.tan(0.5 * u), tt.sqrt(1 - e))\n",
    "    v0 = pm.Uniform('v0', lower=-1, upper=1)\n",
    "    v_mean = v0 + K * (tt.cos(f + w) + e * tt.cos(w))\n",
    "    jitter = pm.HalfNormal('jitter', sd=0.01)\n",
    "    err_scale = pm.HalfNormal('err_scale', sd=1)\n",
    "    sd = tt.sqrt((err_scale * rv_err) ** 2 + jitter ** 2)\n",
    "    pm.Normal('y', mu=v_mean, sd=sd, observed=rv )\n"
   ]
  },
  {
   "cell_type": "markdown",
   "metadata": {},
   "source": [
    "# ADVI"
   ]
  },
  {
   "cell_type": "code",
   "execution_count": 5,
   "metadata": {},
   "outputs": [],
   "source": [
    "with my_model:\n",
    "    advi = pm.ADVI(random_seed=1234)\n",
    "tracker = pm.callbacks.Tracker(\n",
    "    mean=advi.approx.mean.eval,  # callable that returns mean\n",
    "    std=advi.approx.std.eval  # callable that returns std\n",
    ")"
   ]
  },
  {
   "cell_type": "code",
   "execution_count": 6,
   "metadata": {},
   "outputs": [
    {
     "name": "stderr",
     "output_type": "stream",
     "text": [
      "Average Loss = -2,142: 100%|██████████| 30000/30000 [00:12<00:00, 2417.22it/s]  \n",
      "Finished [100%]: Average Loss = -2,141.9\n"
     ]
    },
    {
     "name": "stdout",
     "output_type": "stream",
     "text": [
      "Loss at the end of training :  -2140.461362223594\n"
     ]
    }
   ],
   "source": [
    "approx = advi.fit(30000,obj_optimizer=pm.adam(learning_rate=0.01),callbacks=[tracker])\n",
    "print(\"Loss at the end of training : \",approx.hist[-1])"
   ]
  },
  {
   "cell_type": "code",
   "execution_count": 7,
   "metadata": {},
   "outputs": [
    {
     "name": "stderr",
     "output_type": "stream",
     "text": [
      "arviz.stats.stats_utils - WARNING - Shape validation failed: input_shape: (1, 5000), minimum_shape: (chains=2, draws=4)\n",
      "arviz.stats.stats_utils - WARNING - Shape validation failed: input_shape: (1, 5000), minimum_shape: (chains=2, draws=4)\n",
      "arviz.stats.stats_utils - WARNING - Shape validation failed: input_shape: (1, 5000), minimum_shape: (chains=2, draws=4)\n",
      "arviz.stats.stats_utils - WARNING - Shape validation failed: input_shape: (1, 5000), minimum_shape: (chains=2, draws=4)\n",
      "arviz.stats.stats_utils - WARNING - Shape validation failed: input_shape: (1, 5000), minimum_shape: (chains=2, draws=4)\n",
      "arviz.stats.stats_utils - WARNING - Shape validation failed: input_shape: (1, 5000), minimum_shape: (chains=2, draws=4)\n",
      "arviz.stats.stats_utils - WARNING - Shape validation failed: input_shape: (1, 5000), minimum_shape: (chains=2, draws=4)\n",
      "arviz.stats.stats_utils - WARNING - Shape validation failed: input_shape: (1, 5000), minimum_shape: (chains=2, draws=4)\n"
     ]
    },
    {
     "name": "stdout",
     "output_type": "stream",
     "text": [
      "              mean     sd   hpd_3%  hpd_97%  mcse_mean  mcse_sd  ess_mean  \\\n",
      "T          349.796  0.060  349.679  349.907      0.001    0.001    4777.0   \n",
      "K            0.149  0.000    0.149    0.150      0.000    0.000    4760.0   \n",
      "e            0.301  0.001    0.299    0.303      0.000    0.000    4912.0   \n",
      "w           -1.578  0.001   -1.580   -1.575      0.000    0.000    4807.0   \n",
      "tau          1.571  0.001    1.569    1.573      0.000    0.000    5035.0   \n",
      "v0           0.005  0.000    0.005    0.005      0.000    0.000    4388.0   \n",
      "jitter       0.002  0.000    0.002    0.003      0.000    0.000    4763.0   \n",
      "err_scale    0.347  0.023    0.303    0.389      0.000    0.000    4914.0   \n",
      "\n",
      "           ess_sd  ess_bulk  ess_tail  r_hat  \n",
      "T          4777.0    4777.0    4459.0    NaN  \n",
      "K          4760.0    4762.0    4865.0    NaN  \n",
      "e          4912.0    4912.0    4941.0    NaN  \n",
      "w          4807.0    4814.0    5039.0    NaN  \n",
      "tau        5035.0    5035.0    4712.0    NaN  \n",
      "v0         4387.0    4375.0    4752.0    NaN  \n",
      "jitter     4763.0    4759.0    5166.0    NaN  \n",
      "err_scale  4914.0    4913.0    4697.0    NaN  \n"
     ]
    }
   ],
   "source": [
    "trace = approx.sample(5000)\n",
    "print(pm.summary(trace))"
   ]
  },
  {
   "cell_type": "code",
   "execution_count": 8,
   "metadata": {},
   "outputs": [
    {
     "name": "stderr",
     "output_type": "stream",
     "text": [
      "100%|██████████| 5000/5000 [00:06<00:00, 754.95it/s]\n"
     ]
    },
    {
     "name": "stdout",
     "output_type": "stream",
     "text": [
      "Mean squared error of posterior samples and actual data :\n",
      "1.6596421949835818e-05\n"
     ]
    },
    {
     "data": {
      "text/plain": [
       "<Figure size 432x288 with 0 Axes>"
      ]
     },
     "metadata": {},
     "output_type": "display_data"
    }
   ],
   "source": [
    "with my_model:\n",
    "    ppc = pm.sample_posterior_predictive(trace,random_seed=1234)\n",
    "plt.plot(t, rv, '.')\n",
    "plt.plot(t, ppc['y'][-1], '-')\n",
    "plt.savefig('./plots/advi.png')\n",
    "print('Mean squared error of posterior samples and actual data :')\n",
    "print(((rv - ppc['y'][-1])**2).mean())\n",
    "plt.clf()"
   ]
  },
  {
   "cell_type": "markdown",
   "metadata": {},
   "source": [
    "# MCMC"
   ]
  },
  {
   "cell_type": "code",
   "execution_count": 9,
   "metadata": {},
   "outputs": [
    {
     "name": "stderr",
     "output_type": "stream",
     "text": [
      "Auto-assigning NUTS sampler...\n",
      "Initializing NUTS using adapt_diag...\n",
      "Multiprocess sampling (2 chains in 2 jobs)\n",
      "NUTS: [err_scale, jitter, v0, tau, w, e, K, T]\n",
      "Sampling 2 chains, 0 divergences: 100%|██████████| 11000/11000 [00:31<00:00, 351.74draws/s]\n"
     ]
    }
   ],
   "source": [
    "#MCMC\n",
    "with my_model:\n",
    "    trace_nuts = pm.sample(draws=5000,random_seed=1234,chains=2,cores=2,init='adapt_diag')"
   ]
  },
  {
   "cell_type": "code",
   "execution_count": 10,
   "metadata": {},
   "outputs": [
    {
     "name": "stdout",
     "output_type": "stream",
     "text": [
      "0.3012591281750235\n",
      "349.746417009099\n",
      "0.1500976898462208\n",
      "-1.5766552933554772\n",
      "1.5701981881169669\n",
      "0.003904880031709976\n"
     ]
    }
   ],
   "source": [
    "print(trace_nuts['e'][0:5000].mean())\n",
    "print(trace_nuts['T'][0:5000].mean())\n",
    "print(trace_nuts['K'][0:5000].mean())\n",
    "print(trace_nuts['w'][0:5000].mean())\n",
    "print(trace_nuts['tau'][0:5000].mean())\n",
    "print(trace_nuts['v0'][0:5000].mean())"
   ]
  },
  {
   "cell_type": "code",
   "execution_count": 11,
   "metadata": {},
   "outputs": [
    {
     "name": "stderr",
     "output_type": "stream",
     "text": [
      "100%|██████████| 10000/10000 [00:13<00:00, 742.33it/s]\n"
     ]
    }
   ],
   "source": [
    "with my_model:\n",
    "    ppc_nuts = pm.sample_posterior_predictive(trace_nuts,random_seed=1234)"
   ]
  },
  {
   "cell_type": "code",
   "execution_count": 12,
   "metadata": {},
   "outputs": [
    {
     "name": "stdout",
     "output_type": "stream",
     "text": [
      "Mean squared error of posterior samples and actual data :\n",
      "1.9817883307325097e-05\n"
     ]
    },
    {
     "data": {
      "text/plain": [
       "<Figure size 720x432 with 0 Axes>"
      ]
     },
     "execution_count": 12,
     "metadata": {},
     "output_type": "execute_result"
    },
    {
     "data": {
      "text/plain": [
       "<Figure size 432x288 with 0 Axes>"
      ]
     },
     "metadata": {},
     "output_type": "display_data"
    },
    {
     "data": {
      "text/plain": [
       "<Figure size 720x432 with 0 Axes>"
      ]
     },
     "metadata": {},
     "output_type": "display_data"
    }
   ],
   "source": [
    "plt.plot(t, rv, '*')\n",
    "plt.plot(t, ppc_nuts['y'][-1], '-',label='NUTS')\n",
    "plt.savefig('./plots/nuts.png')\n",
    "plt.clf()\n",
    "print('Mean squared error of posterior samples and actual data :')\n",
    "print(((rv - ppc_nuts['y'][-1])**2).mean())\n",
    "\n",
    "plt.plot(t[np.arange(0,500,10)], rv[np.arange(0,500,10)], '*',label='data')\n",
    "plt.plot(t[np.arange(0,500,10)], ppc['y'][-1][np.arange(0,500,10)], '-',label='advi')\n",
    "plt.plot(t[np.arange(0,500,10)],ppc_nuts['y'][-1][np.arange(0,500,10)],'-',label='nuts')\n",
    "plt.ylabel('radial velocity (m/s)')\n",
    "plt.xlabel('time (days)')\n",
    "plt.legend()\n",
    "plt.savefig(\"./plots/final.png\")\n",
    "plt.clf()\n",
    "plt.figure(figsize=(10,6))"
   ]
  },
  {
   "cell_type": "code",
   "execution_count": 13,
   "metadata": {},
   "outputs": [],
   "source": [
    "import corner"
   ]
  },
  {
   "cell_type": "code",
   "execution_count": 14,
   "metadata": {},
   "outputs": [
    {
     "name": "stderr",
     "output_type": "stream",
     "text": [
      "/home/geethu/miniconda3/envs/vipaperenv/lib/python3.7/site-packages/corner/corner.py:806: UserWarning: The following kwargs were not used by contour: 'color'\n",
      "  ax.contour(X2, Y2, H2.T, V, **contour_kwargs)\n",
      "/home/geethu/miniconda3/envs/vipaperenv/lib/python3.7/site-packages/corner/corner.py:806: UserWarning: The following kwargs were not used by contour: 'color'\n",
      "  ax.contour(X2, Y2, H2.T, V, **contour_kwargs)\n",
      "/home/geethu/miniconda3/envs/vipaperenv/lib/python3.7/site-packages/corner/corner.py:806: UserWarning: The following kwargs were not used by contour: 'color'\n",
      "  ax.contour(X2, Y2, H2.T, V, **contour_kwargs)\n"
     ]
    },
    {
     "data": {
      "image/png": "[encoded data removed]",
      "text/plain": [
       "<Figure size 547.2x547.2 with 9 Axes>"
      ]
     },
     "metadata": {
      "needs_background": "light"
     },
     "output_type": "display_data"
    }
   ],
   "source": [
    "dn = np.asarray([trace['e'],trace['K'],trace['T']]).T\n",
    "corner.corner(dn, labels=[\"e\", \"K\",\"T\"] ,levels=(0.68,0.95,0.99),color = 'b',alpha=0.1,fill_contours = 1,show_titles=True,title_fmt='.3f',max_n_ticks = 3, title_kwargs={\"fontsize\": 14},label_kwargs={\"fontsize\": 16},contour_kwargs={\"color\": 'r'})\n",
    "plt.savefig('params.png')"
   ]
  },
  {
   "cell_type": "code",
   "execution_count": null,
   "metadata": {},
   "outputs": [],
   "source": []
  }
 ],
 "metadata": {
  "kernelspec": {
   "display_name": "Python 3",
   "language": "python",
   "name": "python3"
  },
  "language_info": {
   "codemirror_mode": {
    "name": "ipython",
    "version": 3
   },
   "file_extension": ".py",
   "mimetype": "text/x-python",
   "name": "python",
   "nbconvert_exporter": "python",
   "pygments_lexer": "ipython3",
   "version": "3.7.9"
  }
 },
 "nbformat": 4,
 "nbformat_minor": 4
}
